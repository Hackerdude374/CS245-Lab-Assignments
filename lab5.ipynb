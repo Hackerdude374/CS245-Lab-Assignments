{
 "cells": [
  {
   "cell_type": "code",
   "execution_count": null,
   "metadata": {},
   "outputs": [],
   "source": [
    "# Given the TitanicDataSet answer below questions using the pandas Library.\n",
    "\n",
    "# Upload your answers to your github repository as usual and add the link for your assignment.\n",
    "\n",
    "# 1. Write a Pandas program to print a concise summary of the dataset (titanic.csv).\n",
    "# 2. Write a Pandas program to extract the column labels, shape and data types of the dataset (titanic.csv).\n",
    "# 3. Write a Pandas program to create a Pivot table with multiple indexes from the data set of titanic.csv.\n",
    "# 4. Write a Pandas program to create a Pivot table and find survival rate by gender on various classes.\n",
    "# 5. Write a Pandas program to create a Pivot table and find survival rate by gender.\n",
    "# 6. Write a Pandas program to create a Pivot table and find survival rate by gender, age wise of various classes.\n",
    "# 7. Write a Pandas program to partition each of the passengers into four categories based on their age.\n",
    "# Note: Age categories (0, 10), (10, 30), (30, 60), (60, 80)\n",
    "# 8. Write a Pandas program to create a Pivot table and count survival by gender, categories wise age of various classes.\n",
    "# Note: Age categories (0, 10), (10, 30), (30, 60), (60, 80)\n",
    "# 9. Write a Pandas program to create a Pivot table and find survival rate by gender, age of the different categories of various classes.\n",
    "# 10. Write a Pandas program to create a Pivot table and find survival rate by gender, age of the different categories of various classes. Add the fare as a dimension of columns and partition fare column into 2 categories based on the values present in fare columns\n",
    "\n"
   ]
  }
 ],
 "metadata": {
  "language_info": {
   "name": "python"
  }
 },
 "nbformat": 4,
 "nbformat_minor": 2
}
