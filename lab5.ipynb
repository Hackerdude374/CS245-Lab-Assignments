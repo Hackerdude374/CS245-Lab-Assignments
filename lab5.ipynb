{
 "cells": [
  {
   "cell_type": "code",
   "execution_count": 3,
   "metadata": {},
   "outputs": [
    {
     "name": "stdout",
     "output_type": "stream",
     "text": [
      "Load titanic data set\n",
      "Titanic Data CSV:      survived  pclass     sex   age  sibsp  parch     fare embarked   class  \\\n",
      "0           0       3    male  22.0      1      0   7.2500        S   Third   \n",
      "1           1       1  female  38.0      1      0  71.2833        C   First   \n",
      "2           1       3  female  26.0      0      0   7.9250        S   Third   \n",
      "3           1       1  female  35.0      1      0  53.1000        S   First   \n",
      "4           0       3    male  35.0      0      0   8.0500        S   Third   \n",
      "..        ...     ...     ...   ...    ...    ...      ...      ...     ...   \n",
      "886         0       2    male  27.0      0      0  13.0000        S  Second   \n",
      "887         1       1  female  19.0      0      0  30.0000        S   First   \n",
      "888         0       3  female   NaN      1      2  23.4500        S   Third   \n",
      "889         1       1    male  26.0      0      0  30.0000        C   First   \n",
      "890         0       3    male  32.0      0      0   7.7500        Q   Third   \n",
      "\n",
      "       who  adult_male deck  embark_town alive  alone  Unnamed: 15  \n",
      "0      man        True  NaN  Southampton    no  False          NaN  \n",
      "1    woman       False    C    Cherbourg   yes  False          NaN  \n",
      "2    woman       False  NaN  Southampton   yes   True          NaN  \n",
      "3    woman       False    C  Southampton   yes  False          NaN  \n",
      "4      man        True  NaN  Southampton    no   True          NaN  \n",
      "..     ...         ...  ...          ...   ...    ...          ...  \n",
      "886    man        True  NaN  Southampton    no   True          NaN  \n",
      "887  woman       False    B  Southampton   yes   True          NaN  \n",
      "888  woman       False  NaN  Southampton    no  False          NaN  \n",
      "889    man        True    C    Cherbourg   yes   True          NaN  \n",
      "890    man        True  NaN   Queenstown    no   True          NaN  \n",
      "\n",
      "[891 rows x 16 columns]\n",
      "------------------------------------------------\n",
      "1. Write a Pandas program to print a concise summary of the dataset (titanic.csv).\n",
      "<class 'pandas.core.frame.DataFrame'>\n",
      "RangeIndex: 891 entries, 0 to 890\n",
      "Data columns (total 16 columns):\n",
      " #   Column       Non-Null Count  Dtype  \n",
      "---  ------       --------------  -----  \n",
      " 0   survived     891 non-null    int64  \n",
      " 1   pclass       891 non-null    int64  \n",
      " 2   sex          891 non-null    object \n",
      " 3   age          714 non-null    float64\n",
      " 4   sibsp        891 non-null    int64  \n",
      " 5   parch        891 non-null    int64  \n",
      " 6   fare         891 non-null    float64\n",
      " 7   embarked     889 non-null    object \n",
      " 8   class        891 non-null    object \n",
      " 9   who          891 non-null    object \n",
      " 10  adult_male   891 non-null    bool   \n",
      " 11  deck         203 non-null    object \n",
      " 12  embark_town  889 non-null    object \n",
      " 13  alive        891 non-null    object \n",
      " 14  alone        891 non-null    bool   \n",
      " 15  Unnamed: 15  0 non-null      float64\n",
      "dtypes: bool(2), float64(3), int64(4), object(7)\n",
      "memory usage: 99.3+ KB\n",
      "None\n",
      "hello\n",
      "------------------------------------------------\n",
      "2. Write a Pandas program to extract the column labels, shape and data types of the dataset (titanic.csv).\n",
      "------------------------------------------------\n"
     ]
    }
   ],
   "source": [
    "# Given the TitanicDataSet answer below questions using the pandas Library.\n",
    "\n",
    "# Upload your answers to your github repository as usual and add the link for your assignment.\n",
    "import pandas as pd\n",
    "import numpy as np\n",
    "print(\"Load titanic data set\")\n",
    "titanicData = pd.read_csv('titanic.csv')\n",
    "print(\"Titanic Data CSV:\", titanicData)\n",
    "print(\"------------------------------------------------\")\n",
    "\n",
    "\n",
    "# 3. Write a Pandas program to create a Pivot table with multiple indexes from the data set of titanic.csv.\n",
    "# 4. Write a Pandas program to create a Pivot table and find survival rate by gender on various classes.\n",
    "# 5. Write a Pandas program to create a Pivot table and find survival rate by gender.\n",
    "# 6. Write a Pandas program to create a Pivot table and find survival rate by gender, age wise of various classes.\n",
    "# 7. Write a Pandas program to partition each of the passengers into four categories based on their age.\n",
    "# Note: Age categories (0, 10), (10, 30), (30, 60), (60, 80)\n",
    "# 8. Write a Pandas program to create a Pivot table and count survival by gender, categories wise age of various classes.\n",
    "# Note: Age categories (0, 10), (10, 30), (30, 60), (60, 80)\n",
    "# 9. Write a Pandas program to create a Pivot table and find survival rate by gender, age of the different categories of various classes.\n",
    "# 10. Write a Pandas program to create a Pivot table and find survival rate by gender, age of the different categories of various classes. Add the fare as a dimension of columns and partition fare column into 2 categories based on the values present in fare columns\n",
    "\n"
   ]
  },
  {
   "cell_type": "code",
   "execution_count": 4,
   "metadata": {},
   "outputs": [
    {
     "name": "stdout",
     "output_type": "stream",
     "text": [
      "1. Write a Pandas program to print a concise summary of the dataset (titanic.csv).\n",
      "<class 'pandas.core.frame.DataFrame'>\n",
      "RangeIndex: 891 entries, 0 to 890\n",
      "Data columns (total 16 columns):\n",
      " #   Column       Non-Null Count  Dtype  \n",
      "---  ------       --------------  -----  \n",
      " 0   survived     891 non-null    int64  \n",
      " 1   pclass       891 non-null    int64  \n",
      " 2   sex          891 non-null    object \n",
      " 3   age          714 non-null    float64\n",
      " 4   sibsp        891 non-null    int64  \n",
      " 5   parch        891 non-null    int64  \n",
      " 6   fare         891 non-null    float64\n",
      " 7   embarked     889 non-null    object \n",
      " 8   class        891 non-null    object \n",
      " 9   who          891 non-null    object \n",
      " 10  adult_male   891 non-null    bool   \n",
      " 11  deck         203 non-null    object \n",
      " 12  embark_town  889 non-null    object \n",
      " 13  alive        891 non-null    object \n",
      " 14  alone        891 non-null    bool   \n",
      " 15  Unnamed: 15  0 non-null      float64\n",
      "dtypes: bool(2), float64(3), int64(4), object(7)\n",
      "memory usage: 99.3+ KB\n",
      "None\n",
      "------------------------------------------------\n"
     ]
    }
   ],
   "source": [
    "# 1. Write a Pandas program to print a concise summary of the dataset (titanic.csv).\n",
    "print(\"1. Write a Pandas program to print a concise summary of the dataset (titanic.csv).\")\n",
    "\n",
    "\n",
    "print(titanicData.info())\n",
    "\n",
    "print(\"------------------------------------------------\")"
   ]
  },
  {
   "cell_type": "code",
   "execution_count": 6,
   "metadata": {},
   "outputs": [
    {
     "name": "stdout",
     "output_type": "stream",
     "text": [
      "2. Write a Pandas program to extract the column labels, shape and data types of the dataset (titanic.csv).\n",
      "Column Labels\n",
      "Index(['survived', 'pclass', 'sex', 'age', 'sibsp', 'parch', 'fare',\n",
      "       'embarked', 'class', 'who', 'adult_male', 'deck', 'embark_town',\n",
      "       'alive', 'alone', 'Unnamed: 15'],\n",
      "      dtype='object')\n",
      "\n",
      "Shape of the dataset: (891, 16)\n",
      "\n",
      "Data types of the dataset\n",
      "survived         int64\n",
      "pclass           int64\n",
      "sex             object\n",
      "age            float64\n",
      "sibsp            int64\n",
      "parch            int64\n",
      "fare           float64\n",
      "embarked        object\n",
      "class           object\n",
      "who             object\n",
      "adult_male        bool\n",
      "deck            object\n",
      "embark_town     object\n",
      "alive           object\n",
      "alone             bool\n",
      "Unnamed: 15    float64\n",
      "dtype: object\n",
      "------------------------------------------------\n"
     ]
    }
   ],
   "source": [
    "# 2. Write a Pandas program to extract the column labels, shape and data types of the dataset (titanic.csv).\n",
    "\n",
    "print(\"2. Write a Pandas program to extract the column labels, shape and data types of the dataset (titanic.csv).\")\n",
    "print(\"Column Labels\")\n",
    "print(titanicData.columns)\n",
    "\n",
    "print(\"\\nShape of the dataset:\", titanicData.shape)\n",
    "\n",
    "print(\"\\nData types of the dataset\")\n",
    "print(titanicData.dtypes)\n",
    "\n",
    "print(\"------------------------------------------------\")"
   ]
  },
  {
   "cell_type": "code",
   "execution_count": 6,
   "metadata": {},
   "outputs": [
    {
     "name": "stdout",
     "output_type": "stream",
     "text": [
      "Pivot table with multiple indexes (Age and Pclass):\n",
      "                  fare  survived\n",
      "age   pclass                    \n",
      "0.42  3         8.5167       1.0\n",
      "0.67  2        14.5000       1.0\n",
      "0.75  3        38.5166       1.0\n",
      "0.83  2        47.7500       1.0\n",
      "0.92  1       151.5500       1.0\n",
      "...                ...       ...\n",
      "70.00 2        10.5000       0.0\n",
      "70.50 3         7.7500       0.0\n",
      "71.00 1        84.1584       0.0\n",
      "74.00 3         7.7750       0.0\n",
      "80.00 1        30.0000       1.0\n",
      "\n",
      "[182 rows x 2 columns]\n"
     ]
    },
    {
     "name": "stderr",
     "output_type": "stream",
     "text": [
      "C:\\Users\\bobby\\AppData\\Local\\Temp\\ipykernel_17792\\157278018.py:19: FutureWarning: The provided callable <function mean at 0x00000208B950FF70> is currently using SeriesGroupBy.mean. In a future version of pandas, the provided callable will be used directly. To keep current behavior pass the string \"mean\" instead.\n",
      "  pivotTable = titanicData.pivot_table(index=['age', 'pclass'], aggfunc={'survived': np.mean, 'fare': np.sum})\n",
      "C:\\Users\\bobby\\AppData\\Local\\Temp\\ipykernel_17792\\157278018.py:19: FutureWarning: The provided callable <function sum at 0x00000208B950F040> is currently using SeriesGroupBy.sum. In a future version of pandas, the provided callable will be used directly. To keep current behavior pass the string \"sum\" instead.\n",
      "  pivotTable = titanicData.pivot_table(index=['age', 'pclass'], aggfunc={'survived': np.mean, 'fare': np.sum})\n"
     ]
    }
   ],
   "source": [
    "\n",
    "# 3. Write a Pandas program to create a Pivot table with multiple indexes from the data set of titanic.csv.\n",
    "\n",
    "# import pandas as pd\n",
    "# import numpy as np\n",
    "# titanicData = pd.read_csv(\"titanic.csv\")\n",
    "# print(\"Column labels:\")\n",
    "# print(titanicData.columns)\n",
    "# pivot_table_multiple_indexes = titanicData.pivot_table(index=['age', 'pclass'])\n",
    "\n",
    "\n",
    "# print(\"Pivot table with multiple indexes (Age and Pclass):\")\n",
    "\n",
    "import pandas as pd\n",
    "import numpy as np\n",
    "\n",
    "\n",
    "titanicData = pd.read_csv(\"titanic.csv\")  \n",
    "\n",
    "pivotTable = titanicData.pivot_table(index=['age', 'pclass'], aggfunc={'survived': np.mean, 'fare': np.sum})\n",
    "\n",
    "\n",
    "print(\"Pivot table with multiple indexes (Age and Pclass):\")\n",
    "print(pivotTable)\n",
    "\n",
    "\n"
   ]
  },
  {
   "cell_type": "code",
   "execution_count": 8,
   "metadata": {},
   "outputs": [
    {
     "name": "stdout",
     "output_type": "stream",
     "text": [
      "pclass         1         2         3\n",
      "sex                                 \n",
      "female  0.968085  0.921053  0.500000\n",
      "male    0.368852  0.157407  0.135447\n"
     ]
    }
   ],
   "source": [
    "# 4. Write a Pandas program to create a Pivot table and find survival rate by gender on various classes.\n",
    "\n",
    "pivotTable = titanicData.pivot_table(index = 'sex', columns = 'pclass' , values = 'survived', aggfunc = 'mean')\n",
    "\n",
    "print(pivotTable)\n",
    "\n",
    "# If you want to analyze the average fare paid by passengers based on their gender and class, you would choose 'sex' for rows, 'pclass' for columns, 'fare' for values, and 'mean' for the aggregating function."
   ]
  },
  {
   "cell_type": "code",
   "execution_count": 9,
   "metadata": {},
   "outputs": [
    {
     "name": "stdout",
     "output_type": "stream",
     "text": [
      "        survived\n",
      "sex             \n",
      "female  0.742038\n",
      "male    0.188908\n"
     ]
    }
   ],
   "source": [
    "# 5. Write a Pandas program to create a Pivot table and find survival rate by gender.\n",
    "#no pclass needed\n",
    "#index = left variables\n",
    "pivotTable = titanicData.pivot_table(index = 'sex', values = 'survived', aggfunc = 'mean')\n",
    "print(pivotTable)"
   ]
  },
  {
   "cell_type": "code",
   "execution_count": 11,
   "metadata": {},
   "outputs": [
    {
     "name": "stdout",
     "output_type": "stream",
     "text": [
      "pclass          1    2    3\n",
      "sex    age                 \n",
      "female 0.75   NaN  NaN  2.0\n",
      "       1.00   NaN  NaN  2.0\n",
      "       2.00   0.0  1.0  1.0\n",
      "       3.00   NaN  1.0  0.0\n",
      "       4.00   NaN  2.0  3.0\n",
      "...           ...  ...  ...\n",
      "male   70.00  0.0  0.0  NaN\n",
      "       70.50  NaN  NaN  0.0\n",
      "       71.00  0.0  NaN  NaN\n",
      "       74.00  NaN  NaN  0.0\n",
      "       80.00  1.0  NaN  NaN\n",
      "\n",
      "[145 rows x 3 columns]\n"
     ]
    }
   ],
   "source": [
    "# 6. Write a Pandas program to create a Pivot table and find survival rate by gender, age wise of various classes.\n",
    "pivotTable = titanicData.pivot_table(index = ['sex','age'], columns = 'pclass', values = 'survived', aggfunc = 'sum', )\n",
    "\n",
    "print(pivotTable)"
   ]
  },
  {
   "cell_type": "code",
   "execution_count": 12,
   "metadata": {},
   "outputs": [
    {
     "name": "stderr",
     "output_type": "stream",
     "text": [
      "C:\\Users\\bobby\\AppData\\Local\\Temp\\ipykernel_17792\\200074221.py:7: FutureWarning: The default value of observed=False is deprecated and will change to observed=True in a future version of pandas. Specify observed=False to silence this warning and retain the current behavior\n",
      "  pivotTable= titanicData.pivot_table(index=pd.cut(titanicData['age'], bins=age_categories, labels=ageLabels, right=False), columns='sex', values='survived', aggfunc='mean')\n"
     ]
    },
    {
     "name": "stdout",
     "output_type": "stream",
     "text": [
      "sex      female      male\n",
      "age                      \n",
      "0-10   0.633333  0.593750\n",
      "10-30  0.735043  0.156098\n",
      "30-60  0.800000  0.201031\n",
      "60-80  1.000000  0.095238\n"
     ]
    }
   ],
   "source": [
    "# 7. Write a Pandas program to partition each of the passengers into four categories based on their age.\n",
    "# Note: Age categories (0, 10), (10, 30), (30, 60), (60, 80)\n",
    "\n",
    "age_categories = [0,10,30,60,80]\n",
    "\n",
    "ageLabels = [\"0-10\", \"10-30\", \"30-60\", \"60-80\"]\n",
    "pivotTable= titanicData.pivot_table(index=pd.cut(titanicData['age'], bins=age_categories, labels=ageLabels, right=False), columns='sex', values='survived', aggfunc='mean')\n",
    "\n",
    "print(pivotTable)\n"
   ]
  },
  {
   "cell_type": "code",
   "execution_count": 13,
   "metadata": {},
   "outputs": [
    {
     "name": "stdout",
     "output_type": "stream",
     "text": [
      "sex      female      male\n",
      "age                      \n",
      "0-10   0.633333  0.593750\n",
      "10-30  0.735043  0.156098\n",
      "30-60  0.800000  0.201031\n",
      "60-80  1.000000  0.095238\n"
     ]
    },
    {
     "name": "stderr",
     "output_type": "stream",
     "text": [
      "C:\\Users\\bobby\\AppData\\Local\\Temp\\ipykernel_17792\\3143485056.py:8: FutureWarning: The default value of observed=False is deprecated and will change to observed=True in a future version of pandas. Specify observed=False to silence this warning and retain the current behavior\n",
      "  pivotTable = titanicData.pivot_table(index=pd.cut(titanicData['age'], bins=age_categories, labels=age_labels, right=False), columns='sex', values='survived', aggfunc='mean')\n"
     ]
    }
   ],
   "source": [
    "# 8. Write a Pandas program to create a Pivot table and count survival by gender, categories wise age of various classes.\n",
    "# Note: Age categories (0, 10), (10, 30), (30, 60), (60, 80)\n",
    "\n",
    "age_categories = [0, 10, 30, 60, 80]\n",
    "age_labels = [\"0-10\", \"10-30\", \"30-60\", \"60-80\"]\n",
    "\n",
    "\n",
    "pivotTable = titanicData.pivot_table(index=pd.cut(titanicData['age'], bins=age_categories, labels=age_labels, right=False), columns='sex', values='survived', aggfunc='mean')\n",
    "\n",
    "print(pivotTable)\n"
   ]
  },
  {
   "cell_type": "code",
   "execution_count": 15,
   "metadata": {},
   "outputs": [
    {
     "name": "stdout",
     "output_type": "stream",
     "text": [
      "pclass               1         2         3\n",
      "sex    age                                \n",
      "female 0-10   0.000000  1.000000  0.523810\n",
      "       10-30  0.965517  0.909091  0.509091\n",
      "       30-60  0.980769  0.909091  0.280000\n",
      "       60-80  1.000000       NaN  1.000000\n",
      "male   0-10   1.000000  1.000000  0.380952\n",
      "       10-30  0.478261  0.026316  0.138889\n",
      "       30-60  0.403226  0.083333  0.119048\n",
      "       60-80  0.076923  0.250000  0.000000\n"
     ]
    },
    {
     "name": "stderr",
     "output_type": "stream",
     "text": [
      "C:\\Users\\bobby\\AppData\\Local\\Temp\\ipykernel_17792\\4117695456.py:6: FutureWarning: The default value of observed=False is deprecated and will change to observed=True in a future version of pandas. Specify observed=False to silence this warning and retain the current behavior\n",
      "  pivotTable = titanicData.pivot_table(index=['sex', pd.cut(titanicData['age'], bins=age_categories, labels=age_labels, right=False)],  columns='pclass',  values='survived',    aggfunc='mean')\n"
     ]
    }
   ],
   "source": [
    "# 9. Write a Pandas program to create a Pivot table and find survival rate by gender, age of the different categories of various classes.\n",
    "age_categories = [0, 10, 30, 60, 80]\n",
    "age_labels = [\"0-10\", \"10-30\", \"30-60\", \"60-80\"]\n",
    "\n",
    "\n",
    "pivotTable = titanicData.pivot_table(index=['sex', pd.cut(titanicData['age'], bins=age_categories, labels=age_labels, right=False)],  columns='pclass',  values='survived',    aggfunc='mean')\n",
    "\n",
    "print(pivotTable)"
   ]
  },
  {
   "cell_type": "code",
   "execution_count": 16,
   "metadata": {},
   "outputs": [
    {
     "name": "stdout",
     "output_type": "stream",
     "text": [
      "pclass               1              2         3\n",
      "fare               Low High       Low       Low\n",
      "sex    age                                     \n",
      "female 0-10   0.000000  NaN  1.000000  0.523810\n",
      "       10-30  0.960000  1.0  0.909091  0.509091\n",
      "       30-60  0.980392  1.0  0.909091  0.280000\n",
      "       60-80  1.000000  NaN       NaN  1.000000\n",
      "male   0-10   1.000000  NaN  1.000000  0.380952\n",
      "       10-30  0.500000  0.0  0.026316  0.138889\n",
      "       30-60  0.383333  1.0  0.083333  0.119048\n",
      "       60-80  0.083333  0.0  0.250000  0.000000\n"
     ]
    },
    {
     "name": "stderr",
     "output_type": "stream",
     "text": [
      "C:\\Users\\bobby\\AppData\\Local\\Temp\\ipykernel_17792\\2929372335.py:7: FutureWarning: The default value of observed=False is deprecated and will change to observed=True in a future version of pandas. Specify observed=False to silence this warning and retain the current behavior\n",
      "  pivotTable = titanicData.pivot_table(index=['sex', pd.cut(titanicData['age'], bins=age_categories, labels=age_labels, right=False)],  columns=['pclass', fare_bins],  values='survived',    aggfunc='mean')\n"
     ]
    }
   ],
   "source": [
    "# 10. Write a Pandas program to create a Pivot table and find survival rate by gender, age of the different categories of various classes. Add the fare as a dimension of columns and partition fare column into 2 categories based on the values present in fare columns\n",
    "\n",
    "age_categories = [0, 10, 30, 60, 80]\n",
    "age_labels = [\"0-10\", \"10-30\", \"30-60\", \"60-80\"]\n",
    "fare_bins = pd.cut(titanicData['fare'], bins=2, labels=['Low', 'High'])\n",
    "\n",
    "pivotTable = titanicData.pivot_table(index=['sex', pd.cut(titanicData['age'], bins=age_categories, labels=age_labels, right=False)],  columns=['pclass', fare_bins],  values='survived',    aggfunc='mean')\n",
    "\n",
    "print(pivotTable)"
   ]
  }
 ],
 "metadata": {
  "kernelspec": {
   "display_name": "Python 3",
   "language": "python",
   "name": "python3"
  },
  "language_info": {
   "codemirror_mode": {
    "name": "ipython",
    "version": 3
   },
   "file_extension": ".py",
   "mimetype": "text/x-python",
   "name": "python",
   "nbconvert_exporter": "python",
   "pygments_lexer": "ipython3",
   "version": "3.9.1"
  }
 },
 "nbformat": 4,
 "nbformat_minor": 2
}
