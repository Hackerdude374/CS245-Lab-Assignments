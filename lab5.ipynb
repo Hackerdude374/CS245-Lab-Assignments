{
 "cells": [
  {
   "cell_type": "code",
   "execution_count": 3,
   "metadata": {},
   "outputs": [
    {
     "name": "stdout",
     "output_type": "stream",
     "text": [
      "Load titanic data set\n",
      "Titanic Data CSV:      survived  pclass     sex   age  sibsp  parch     fare embarked   class  \\\n",
      "0           0       3    male  22.0      1      0   7.2500        S   Third   \n",
      "1           1       1  female  38.0      1      0  71.2833        C   First   \n",
      "2           1       3  female  26.0      0      0   7.9250        S   Third   \n",
      "3           1       1  female  35.0      1      0  53.1000        S   First   \n",
      "4           0       3    male  35.0      0      0   8.0500        S   Third   \n",
      "..        ...     ...     ...   ...    ...    ...      ...      ...     ...   \n",
      "886         0       2    male  27.0      0      0  13.0000        S  Second   \n",
      "887         1       1  female  19.0      0      0  30.0000        S   First   \n",
      "888         0       3  female   NaN      1      2  23.4500        S   Third   \n",
      "889         1       1    male  26.0      0      0  30.0000        C   First   \n",
      "890         0       3    male  32.0      0      0   7.7500        Q   Third   \n",
      "\n",
      "       who  adult_male deck  embark_town alive  alone  Unnamed: 15  \n",
      "0      man        True  NaN  Southampton    no  False          NaN  \n",
      "1    woman       False    C    Cherbourg   yes  False          NaN  \n",
      "2    woman       False  NaN  Southampton   yes   True          NaN  \n",
      "3    woman       False    C  Southampton   yes  False          NaN  \n",
      "4      man        True  NaN  Southampton    no   True          NaN  \n",
      "..     ...         ...  ...          ...   ...    ...          ...  \n",
      "886    man        True  NaN  Southampton    no   True          NaN  \n",
      "887  woman       False    B  Southampton   yes   True          NaN  \n",
      "888  woman       False  NaN  Southampton    no  False          NaN  \n",
      "889    man        True    C    Cherbourg   yes   True          NaN  \n",
      "890    man        True  NaN   Queenstown    no   True          NaN  \n",
      "\n",
      "[891 rows x 16 columns]\n",
      "------------------------------------------------\n",
      "1. Write a Pandas program to print a concise summary of the dataset (titanic.csv).\n",
      "<class 'pandas.core.frame.DataFrame'>\n",
      "RangeIndex: 891 entries, 0 to 890\n",
      "Data columns (total 16 columns):\n",
      " #   Column       Non-Null Count  Dtype  \n",
      "---  ------       --------------  -----  \n",
      " 0   survived     891 non-null    int64  \n",
      " 1   pclass       891 non-null    int64  \n",
      " 2   sex          891 non-null    object \n",
      " 3   age          714 non-null    float64\n",
      " 4   sibsp        891 non-null    int64  \n",
      " 5   parch        891 non-null    int64  \n",
      " 6   fare         891 non-null    float64\n",
      " 7   embarked     889 non-null    object \n",
      " 8   class        891 non-null    object \n",
      " 9   who          891 non-null    object \n",
      " 10  adult_male   891 non-null    bool   \n",
      " 11  deck         203 non-null    object \n",
      " 12  embark_town  889 non-null    object \n",
      " 13  alive        891 non-null    object \n",
      " 14  alone        891 non-null    bool   \n",
      " 15  Unnamed: 15  0 non-null      float64\n",
      "dtypes: bool(2), float64(3), int64(4), object(7)\n",
      "memory usage: 99.3+ KB\n",
      "None\n",
      "hello\n",
      "------------------------------------------------\n",
      "2. Write a Pandas program to extract the column labels, shape and data types of the dataset (titanic.csv).\n",
      "------------------------------------------------\n"
     ]
    }
   ],
   "source": [
    "# Given the TitanicDataSet answer below questions using the pandas Library.\n",
    "\n",
    "# Upload your answers to your github repository as usual and add the link for your assignment.\n",
    "import pandas as pd\n",
    "import numpy as np\n",
    "print(\"Load titanic data set\")\n",
    "titanicData = pd.read_csv('titanic.csv')\n",
    "print(\"Titanic Data CSV:\", titanicData)\n",
    "print(\"------------------------------------------------\")\n",
    "\n",
    "\n",
    "# 3. Write a Pandas program to create a Pivot table with multiple indexes from the data set of titanic.csv.\n",
    "# 4. Write a Pandas program to create a Pivot table and find survival rate by gender on various classes.\n",
    "# 5. Write a Pandas program to create a Pivot table and find survival rate by gender.\n",
    "# 6. Write a Pandas program to create a Pivot table and find survival rate by gender, age wise of various classes.\n",
    "# 7. Write a Pandas program to partition each of the passengers into four categories based on their age.\n",
    "# Note: Age categories (0, 10), (10, 30), (30, 60), (60, 80)\n",
    "# 8. Write a Pandas program to create a Pivot table and count survival by gender, categories wise age of various classes.\n",
    "# Note: Age categories (0, 10), (10, 30), (30, 60), (60, 80)\n",
    "# 9. Write a Pandas program to create a Pivot table and find survival rate by gender, age of the different categories of various classes.\n",
    "# 10. Write a Pandas program to create a Pivot table and find survival rate by gender, age of the different categories of various classes. Add the fare as a dimension of columns and partition fare column into 2 categories based on the values present in fare columns\n",
    "\n"
   ]
  },
  {
   "cell_type": "code",
   "execution_count": 4,
   "metadata": {},
   "outputs": [
    {
     "name": "stdout",
     "output_type": "stream",
     "text": [
      "1. Write a Pandas program to print a concise summary of the dataset (titanic.csv).\n",
      "<class 'pandas.core.frame.DataFrame'>\n",
      "RangeIndex: 891 entries, 0 to 890\n",
      "Data columns (total 16 columns):\n",
      " #   Column       Non-Null Count  Dtype  \n",
      "---  ------       --------------  -----  \n",
      " 0   survived     891 non-null    int64  \n",
      " 1   pclass       891 non-null    int64  \n",
      " 2   sex          891 non-null    object \n",
      " 3   age          714 non-null    float64\n",
      " 4   sibsp        891 non-null    int64  \n",
      " 5   parch        891 non-null    int64  \n",
      " 6   fare         891 non-null    float64\n",
      " 7   embarked     889 non-null    object \n",
      " 8   class        891 non-null    object \n",
      " 9   who          891 non-null    object \n",
      " 10  adult_male   891 non-null    bool   \n",
      " 11  deck         203 non-null    object \n",
      " 12  embark_town  889 non-null    object \n",
      " 13  alive        891 non-null    object \n",
      " 14  alone        891 non-null    bool   \n",
      " 15  Unnamed: 15  0 non-null      float64\n",
      "dtypes: bool(2), float64(3), int64(4), object(7)\n",
      "memory usage: 99.3+ KB\n",
      "None\n",
      "------------------------------------------------\n"
     ]
    }
   ],
   "source": [
    "# 1. Write a Pandas program to print a concise summary of the dataset (titanic.csv).\n",
    "print(\"1. Write a Pandas program to print a concise summary of the dataset (titanic.csv).\")\n",
    "\n",
    "\n",
    "print(titanicData.info())\n",
    "\n",
    "print(\"------------------------------------------------\")"
   ]
  },
  {
   "cell_type": "code",
   "execution_count": null,
   "metadata": {},
   "outputs": [],
   "source": [
    "# 2. Write a Pandas program to extract the column labels, shape and data types of the dataset (titanic.csv).\n",
    "\n",
    "print(\"2. Write a Pandas program to extract the column labels, shape and data types of the dataset (titanic.csv).\")\n",
    "print(\"Column Labels\")\n",
    "print(titanicData.columns)\n",
    "\n",
    "print(\"\\nShape of the dataset\")\n",
    "print(titanicData.shape)\n",
    "\n",
    "print(\"\\nData types of the dataset\")\n",
    "print(titanicData.dtypes)\n",
    "\n",
    "print(\"------------------------------------------------\")"
   ]
  }
 ],
 "metadata": {
  "kernelspec": {
   "display_name": "Python 3",
   "language": "python",
   "name": "python3"
  },
  "language_info": {
   "codemirror_mode": {
    "name": "ipython",
    "version": 3
   },
   "file_extension": ".py",
   "mimetype": "text/x-python",
   "name": "python",
   "nbconvert_exporter": "python",
   "pygments_lexer": "ipython3",
   "version": "3.12.2"
  }
 },
 "nbformat": 4,
 "nbformat_minor": 2
}
