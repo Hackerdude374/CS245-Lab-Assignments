{
 "cells": [
  {
   "cell_type": "code",
   "execution_count": 4,
   "metadata": {},
   "outputs": [
    {
     "name": "stdout",
     "output_type": "stream",
     "text": [
      "  student_id              name  marks\n",
      "0         S1  Danniella Fenton    200\n",
      "1         S2      Ryder Storey    210\n",
      "2         S3      Bryce Jensen    190\n",
      "3         S4         Ed Bernal    222\n",
      "4         S5       Kwame Morin    199\n",
      "0         S4  Scarlette Fisher    201\n",
      "1         S5  Carla Williamson    200\n",
      "2         S6       Dante Morse    198\n",
      "3         S7    Kaiser William    219\n",
      "4         S8   Madeeha Preston    201\n"
     ]
    }
   ],
   "source": [
    "# 1. Write a Pandas program to join the two given dataframes along rows and assign all data.\n",
    "# Test Data:\n",
    "# student_data1:\n",
    "#   student_id              name  marks\n",
    "# 0         S1  Danniella Fenton    200\n",
    "# 1         S2      Ryder Storey    210\n",
    "# 2         S3      Bryce Jensen    190\n",
    "# 3         S4         Ed Bernal    222\n",
    "# 4         S5       Kwame Morin    199\n",
    "# student_data2:\n",
    "#   student_id              name  marks\n",
    "# 0         S4  Scarlette Fisher    201\n",
    "# 1         S5  Carla Williamson    200\n",
    "# 2         S6       Dante Morse    198\n",
    "# 3         S7    Kaiser William    219\n",
    "# 4         S8   Madeeha Preston    201\n",
    "\n",
    "import pandas as pd\n",
    "\n",
    "#use  pandas concat then make data frames of student data 1 and 2 \n",
    "\n",
    "student_data1 = pd.DataFrame({'student_id': ['S1', 'S2', 'S3', 'S4', 'S5'],\n",
    "                               'name': ['Danniella Fenton', 'Ryder Storey', 'Bryce Jensen', 'Ed Bernal', 'Kwame Morin'],\n",
    "                               'marks': [200, 210, 190, 222, 199]})\n",
    "\n",
    "student_data2 = pd.DataFrame({'student_id': ['S4', 'S5', 'S6', 'S7', 'S8'],'name': ['Scarlette Fisher', 'Carla Williamson', 'Dante Morse', 'Kaiser William', 'Madeeha Preston'],\n",
    "  'marks': [201, 200, 198, 219, 201]})\n",
    "\n",
    "joinedData = pd.concat([student_data1, student_data2])\n",
    "print(joinedData)"
   ]
  },
  {
   "cell_type": "code",
   "execution_count": 5,
   "metadata": {},
   "outputs": [
    {
     "name": "stdout",
     "output_type": "stream",
     "text": [
      "  student_id              name  marks student_id              name  marks\n",
      "0         S1  Danniella Fenton    200         S4  Scarlette Fisher    201\n",
      "1         S2      Ryder Storey    210         S5  Carla Williamson    200\n",
      "2         S3      Bryce Jensen    190         S6       Dante Morse    198\n",
      "3         S4         Ed Bernal    222         S7    Kaiser William    219\n",
      "4         S5       Kwame Morin    199         S8   Madeeha Preston    201\n"
     ]
    }
   ],
   "source": [
    "# 2. Write a Pandas program to join the two given dataframes along columns and assign all data.\n",
    "# Test Data:\n",
    "# student_data1:\n",
    "#   student_id              name  marks\n",
    "# 0         S1  Danniella Fenton    200\n",
    "# 1         S2      Ryder Storey    210\n",
    "# 2         S3      Bryce Jensen    190\n",
    "# 3         S4         Ed Bernal    222\n",
    "# 4         S5       Kwame Morin    199\n",
    "# student_data2:\n",
    "#   student_id              name  marks\n",
    "# 0         S4  Scarlette Fisher    201\n",
    "# 1         S5  Carla Williamson    200\n",
    "# 2         S6       Dante Morse    198\n",
    "# 3         S7    Kaiser William    219\n",
    "# 4         S8   Madeeha Preston    201\n",
    "\n",
    "#2 join along col\n",
    "# \n",
    "# result_data = pd.concat([student_data1, student_data2], axis = 1)\n",
    "\n",
    "\n",
    "tudent_data1 = pd.DataFrame({'student_id': ['S1', 'S2', 'S3', 'S4', 'S5'],\n",
    "                               'name': ['Danniella Fenton', 'Ryder Storey', 'Bryce Jensen', 'Ed Bernal', 'Kwame Morin'],\n",
    "                               'marks': [200, 210, 190, 222, 199]})\n",
    "\n",
    "student_data2 = pd.DataFrame({'student_id': ['S4', 'S5', 'S6', 'S7', 'S8'],'name': ['Scarlette Fisher', 'Carla Williamson', 'Dante Morse', 'Kaiser William', 'Madeeha Preston'],\n",
    "  'marks': [201, 200, 198, 219, 201]})\n",
    "\n",
    "joinedData = pd.concat([student_data1, student_data2], axis = 1)\n",
    "print(joinedData)\n",
    "\n",
    "\n",
    "#changes output format\n",
    "\n",
    "\n",
    "\n",
    "\n",
    "\n",
    "\n"
   ]
  },
  {
   "cell_type": "code",
   "execution_count": 6,
   "metadata": {},
   "outputs": [
    {
     "name": "stdout",
     "output_type": "stream",
     "text": [
      "  student_id              name  marks\n",
      "0         S1  Danniella Fenton    200\n",
      "1         S2      Ryder Storey    210\n",
      "2         S3      Bryce Jensen    190\n",
      "3         S4         Ed Bernal    222\n",
      "4         S5       Kwame Morin    199\n",
      "0         S6  Scarlette Fisher    205\n",
      "1         S7    Kaiser William    219\n"
     ]
    }
   ],
   "source": [
    "\n",
    "\n",
    "# 3. Write a Pandas program to append rows to an existing DataFrame and display the combined data.\n",
    "# Test Data:\n",
    "# tudent_data1\n",
    "#   student_id              name  marks\n",
    "# 0         S1  Danniella Fenton    200\n",
    "# 1         S2      Ryder Storey    210\n",
    "# 2         S3      Bryce Jensen    190\n",
    "# 3         S4         Ed Bernal    222\n",
    "# 4         S5       Kwame Morin    199\n",
    "# New Row(s)\n",
    "# student_id                  S6\n",
    "# name          Scarlette Fisher\n",
    "# marks                      205\n",
    "# dtype: object\n",
    "\n",
    "\n",
    "import pandas as pd\n",
    "\n",
    "#initial data frame\n",
    "student_data1 = pd.DataFrame({'student_id': ['S1', 'S2', 'S3', 'S4', 'S5'],\n",
    "                               'name': ['Danniella Fenton', 'Ryder Storey', 'Bryce Jensen', 'Ed Bernal', 'Kwame Morin'],\n",
    "                               'marks': [200, 210, 190, 222, 199]})\n",
    "\n",
    "# #append new rows\n",
    "append_new_rows = pd.DataFrame({'student_id': ['S6', 'S7'],\n",
    "                         'name': ['Scarlette Fisher', 'Kaiser William'],\n",
    "                         'marks': [205, 219]})\n",
    "\n",
    "\n",
    "combinedData = pd.concat([student_data1, append_new_rows]) #<- concat appends them\n",
    "\n",
    "print(combinedData)"
   ]
  },
  {
   "cell_type": "code",
   "execution_count": 17,
   "metadata": {},
   "outputs": [
    {
     "name": "stdout",
     "output_type": "stream",
     "text": [
      "  student_id              name  marks\n",
      "0         S1  Danniella Fenton    200\n",
      "1         S2      Ryder Storey    210\n",
      "2         S3      Bryce Jensen    190\n",
      "3         S4         Ed Bernal    222\n",
      "4         S5       Kwame Morin    199\n",
      "0         S6  Scarlette Fisher    205\n"
     ]
    }
   ],
   "source": [
    "\n",
    "# 4. Write a Pandas program to append a list of dictioneries or series to a existing DataFrame and display the combined data.\n",
    "# Test Data:\n",
    "#  student_id              name  marks\n",
    "# 0         S1  Danniella Fenton    200\n",
    "# 1         S2      Ryder Storey    210\n",
    "# 2         S3      Bryce Jensen    190\n",
    "# 3         S4         Ed Bernal    222\n",
    "# 4         S5       Kwame Morin    199\n",
    "# Dictionary:\n",
    "# student_id                  S6\n",
    "# name          Scarlette Fisher\n",
    "# marks                      205\n",
    "# dtype: object\n",
    "\n",
    "import pandas as pd    \n",
    "testData = pd.DataFrame({'student_id': ['S1', 'S2', 'S3', 'S4', 'S5'],\n",
    "                               'name': ['Danniella Fenton', 'Ryder Storey', 'Bryce Jensen', 'Ed Bernal', 'Kwame Morin'],\n",
    "                               'marks': [200, 210, 190, 222, 199]})\n",
    "dictionary = {\n",
    "    'student_id': 'S6',\n",
    "    'name': 'Scarlette Fisher',\n",
    "    'marks': 205\n",
    "}\n",
    "\n",
    "# append dictionary \n",
    "newDict = pd.DataFrame([dictionary])\n",
    "result = pd.concat([testData,newDict])\n",
    "print(result)"
   ]
  },
  {
   "cell_type": "code",
   "execution_count": 22,
   "metadata": {},
   "outputs": [
    {
     "name": "stdout",
     "output_type": "stream",
     "text": [
      "  student_id              name  marks  exam_id\n",
      "0         S1  Danniella Fenton    200       23\n",
      "1         S2      Ryder Storey    210       45\n",
      "2         S3      Bryce Jensen    190       12\n",
      "3         S4         Ed Bernal    222       67\n",
      "4         S5       Kwame Morin    199       21\n",
      "5         S4  Scarlette Fisher    201       67\n",
      "6         S5  Carla Williamson    200       21\n",
      "7         S7    Kaiser William    219       55\n",
      "8         S8   Madeeha Preston    201       33\n"
     ]
    }
   ],
   "source": [
    "# 5. Write a Pandas program to join the two given dataframes along rows and merge with another dataframe along the common column id.\n",
    "# Test Data:\n",
    "# student_data1:\n",
    "#   student_id              name  marks\n",
    "# 0         S1  Danniella Fenton    200\n",
    "# 1         S2      Ryder Storey    210\n",
    "# 2         S3      Bryce Jensen    190\n",
    "# 3         S4         Ed Bernal    222\n",
    "# 4         S5       Kwame Morin    199\n",
    "# student_data2:\n",
    "#   student_id              name  marks\n",
    "# 0         S4  Scarlette Fisher    201\n",
    "# 1         S5  Carla Williamson    200\n",
    "# 2         S6       Dante Morse    198\n",
    "# 3         S7    Kaiser William    219\n",
    "# 4         S8   Madeeha Preston    201\n",
    "# exam_data:\n",
    "#    student_id  exam_id\n",
    "# 0          S1       23\n",
    "# 1          S2       45\n",
    "# 2          S3       12\n",
    "# 3          S4       67\n",
    "# 4          S5       21\n",
    "# 5          S7       55\n",
    "# 6          S8       33\n",
    "# 7          S9       14\n",
    "# 8         S10       56\n",
    "# 9         S11       83\n",
    "# 10        S12       88\n",
    "# 11        S13       12\n",
    "\n",
    "student_data1 = pd.DataFrame({'student_id': ['S1', 'S2', 'S3', 'S4', 'S5'],\n",
    "                               'name': ['Danniella Fenton', 'Ryder Storey', 'Bryce Jensen', 'Ed Bernal', 'Kwame Morin'],\n",
    "                               'marks': [200, 210, 190, 222, 199]})\n",
    "\n",
    "student_data2 = pd.DataFrame({'student_id': ['S4', 'S5', 'S6', 'S7', 'S8'],\n",
    "                               'name': ['Scarlette Fisher', 'Carla Williamson', 'Dante Morse', 'Kaiser William', 'Madeeha Preston'],\n",
    "                               'marks': [201, 200, 198, 219, 201]})\n",
    "\n",
    "exam_data = pd.DataFrame({'student_id': ['S1', 'S2', 'S3', 'S4', 'S5', 'S7', 'S8', 'S9', 'S10', 'S11', 'S12', 'S13'],\n",
    "                           'exam_id': [23, 45, 12, 67, 21, 55, 33, 14, 56, 83, 88, 12]})\n",
    "# 5. Write a Pandas program to join the two given dataframes along rows and merge with another dataframe along the common column id.\n",
    "\n",
    "#join two given data frames\n",
    "joinedDataFrames = pd.concat([student_data1, student_data2], axis = 0) #axis 0 = along the rows\n",
    "result = pd.merge(joinedDataFrames, exam_data, on= 'student_id') #common column id\n",
    "    \n",
    "print(result)"
   ]
  },
  {
   "cell_type": "code",
   "execution_count": 6,
   "metadata": {},
   "outputs": [
    {
     "name": "stdout",
     "output_type": "stream",
     "text": [
      "  student_id       name_x  marks_x            name_y  marks_y\n",
      "0         S4    Ed Bernal      222  Scarlette Fisher      201\n",
      "1         S5  Kwame Morin      199  Carla Williamson      200\n"
     ]
    }
   ],
   "source": [
    "# 6. Write a Pandas program to join the two dataframes using the common column of both dataframes.\n",
    "# Test Data:\n",
    "# student_data1:\n",
    "#   student_id              name  marks\n",
    "# 0         S1  Danniella Fenton    200\n",
    "# 1         S2      Ryder Storey    210\n",
    "# 2         S3      Bryce Jensen    190\n",
    "# 3         S4         Ed Bernal    222\n",
    "# 4         S5       Kwame Morin    199\n",
    "# student_data2:\n",
    "#   student_id              name  marks\n",
    "# 0         S4  Scarlette Fisher    201\n",
    "# 1         S5  Carla Williamson    200\n",
    "# 2         S6       Dante Morse    198\n",
    "# 3         S7    Kaiser William    219\n",
    "# 4         S8   Madeeha Preston    201\n",
    "import pandas as pd\n",
    "student_data1 = {\n",
    "    'student_id': ['S1', 'S2', 'S3', 'S4', 'S5'],\n",
    "    'name': ['Danniella Fenton', 'Ryder Storey', 'Bryce Jensen', 'Ed Bernal', 'Kwame Morin'],\n",
    "    'marks': [200, 210, 190, 222, 199]\n",
    "}\n",
    "\n",
    "student_data2 = {\n",
    "    'student_id': ['S4', 'S5', 'S6', 'S7', 'S8'],\n",
    "    'name': ['Scarlette Fisher', 'Carla Williamson', 'Dante Morse', 'Kaiser William', 'Madeeha Preston'],\n",
    "    'marks': [201, 200, 198, 219, 201]\n",
    "}\n",
    "\n",
    "dataFrame1 = pd.DataFrame(student_data1)\n",
    "dataFrame2 = pd.DataFrame(student_data2)\n",
    "\n",
    "result = pd.merge(dataFrame1, dataFrame2 ,on = 'student_id' ) # common column, axis = 1\n",
    "print(result)"
   ]
  },
  {
   "cell_type": "code",
   "execution_count": 7,
   "metadata": {
    "notebookRunGroups": {
     "groupValue": "2"
    }
   },
   "outputs": [
    {
     "name": "stdout",
     "output_type": "stream",
     "text": [
      "  student_id       name_x  marks_x            name_y  marks_y\n",
      "0         S4    Ed Bernal      222  Scarlette Fisher      201\n",
      "1         S5  Kwame Morin      199  Carla Williamson      200\n"
     ]
    }
   ],
   "source": [
    "# 7. Write a Pandas program to join the two dataframes with matching records from both sides where available.\n",
    "# Test Data:\n",
    "# student_data1:\n",
    "#   student_id              name  marks\n",
    "# 0         S1  Danniella Fenton    200\n",
    "# 1         S2      Ryder Storey    210\n",
    "# 2         S3      Bryce Jensen    190\n",
    "# 3         S4         Ed Bernal    222\n",
    "# 4         S5       Kwame Morin    199\n",
    "# student_data2:\n",
    "#   student_id              name  marks\n",
    "# 0         S4  Scarlette Fisher    201\n",
    "# 1         S5  Carla Williamson    200\n",
    "# 2         S6       Dante Morse    198\n",
    "# 3         S7    Kaiser William    219\n",
    "# 4         S8   Madeeha Preston    201\n",
    "\n",
    "student_data1 = {\n",
    "    'student_id': ['S1', 'S2', 'S3', 'S4', 'S5'],\n",
    "    'name': ['Danniella Fenton', 'Ryder Storey', 'Bryce Jensen', 'Ed Bernal', 'Kwame Morin'],\n",
    "    'marks': [200, 210, 190, 222, 199]\n",
    "}\n",
    "\n",
    "student_data2 = {\n",
    "    'student_id': ['S4', 'S5', 'S6', 'S7', 'S8'],\n",
    "    'name': ['Scarlette Fisher', 'Carla Williamson', 'Dante Morse', 'Kaiser William', 'Madeeha Preston'],\n",
    "    'marks': [201, 200, 198, 219, 201]\n",
    "}\n",
    "\n",
    "dataFrame1 = pd.DataFrame(student_data1)\n",
    "dataFrame2 = pd.DataFrame(student_data2)\n",
    "# 7. Write a Pandas program to join the two dataframes with matching records from both sides where available.\n",
    "result = pd.merge(dataFrame1, dataFrame2, on='student_id', how='inner')\n",
    "print(result)"
   ]
  },
  {
   "cell_type": "code",
   "execution_count": null,
   "metadata": {},
   "outputs": [],
   "source": [
    "# 8. Write a Pandas program to join (left join) the two dataframes using keys from left dataframe only.\n",
    "# Test Data:\n",
    "# data1:\n",
    "#   key1 key2   P   Q\n",
    "# 0   K0   K0  P0  Q0\n",
    "# 1   K0   K1  P1  Q1\n",
    "# 2   K1   K0  P2  Q2\n",
    "# 3   K2   K1  P3  Q3\n",
    "# data2:\n",
    "#   key1 key2   R   S\n",
    "# 0   K0   K0  R0  S0\n",
    "# 1   K1   K0  R1  S1\n",
    "# 2   K1   K0  R2  S2\n",
    "# 3   K2   K0  R3  S3"
   ]
  },
  {
   "cell_type": "code",
   "execution_count": null,
   "metadata": {},
   "outputs": [],
   "source": [
    "# 9. Write a Pandas program to join two dataframes using keys from right dataframe only.\n",
    "# Test Data:\n",
    "# data1:\n",
    "#   key1 key2   P   Q\n",
    "# 0   K0   K0  P0  Q0\n",
    "# 1   K0   K1  P1  Q1\n",
    "# 2   K1   K0  P2  Q2\n",
    "# 3   K2   K1  P3  Q3\n",
    "# data2:\n",
    "#   key1 key2   R   S\n",
    "# 0   K0   K0  R0  S0\n",
    "# 1   K1   K0  R1  S1\n",
    "# 2   K1   K0  R2  S2\n",
    "# 3   K2   K0  R3  S3\n"
   ]
  },
  {
   "cell_type": "code",
   "execution_count": null,
   "metadata": {},
   "outputs": [],
   "source": [
    "# 10. Write a Pandas program to merge two given datasets using multiple join keys.\n",
    "# Test Data:\n",
    "# data1:\n",
    "#   key1 key2   P   Q\n",
    "# 0   K0   K0  P0  Q0\n",
    "# 1   K0   K1  P1  Q1\n",
    "# 2   K1   K0  P2  Q2\n",
    "# 3   K2   K1  P3  Q3\n",
    "# data2:\n",
    "#   key1 key2   R   S\n",
    "# 0   K0   K0  R0  S0\n",
    "# 1   K1   K0  R1  S1\n",
    "# 2   K1   K0  R2  S2\n",
    "# 3   K2   K0  R3  S3"
   ]
  },
  {
   "cell_type": "code",
   "execution_count": null,
   "metadata": {},
   "outputs": [],
   "source": [
    "# 11. Write a Pandas program to create a new DataFrame based on existing series, using specified argument and override the existing columns names."
   ]
  },
  {
   "cell_type": "code",
   "execution_count": null,
   "metadata": {},
   "outputs": [],
   "source": [
    "# 12. Write a Pandas program to create a combination from two dataframes where a column id combination appears more than once in both dataframes.\n",
    "# Test Data:\n",
    "# data1:\n",
    "#   key1 key2   P   Q\n",
    "# 0   K0   K0  P0  Q0\n",
    "# 1   K0   K1  P1  Q1\n",
    "# 2   K1   K0  P2  Q2\n",
    "# 3   K2   K1  P3  Q3\n",
    "# data2:\n",
    "#   key1 key2   R   S\n",
    "# 0   K0   K0  R0  S0\n",
    "# 1   K1   K0  R1  S1\n",
    "# 2   K1   K0  R2  S2\n",
    "# 3   K2   K0  R3  S3\n"
   ]
  },
  {
   "cell_type": "code",
   "execution_count": null,
   "metadata": {},
   "outputs": [],
   "source": [
    "# 13. Write a Pandas program to combine the columns of two potentially differently-indexed DataFrames into a single result DataFrame.\n",
    "# Test Data:\n",
    "# data1:\n",
    "#      A   B\n",
    "# K0  A0  B0\n",
    "# K1  A1  B1\n",
    "# K2  A2  B2\n",
    "# data2:\n",
    "#      C   D\n",
    "# K0  C0  D0\n",
    "# K2  C2  D2\n",
    "# K3  C3  D3\n"
   ]
  },
  {
   "cell_type": "code",
   "execution_count": null,
   "metadata": {},
   "outputs": [],
   "source": [
    "# 14. Write a Pandas program to merge two given dataframes with different columns.\n",
    "# Test Data:\n",
    "# data1:\n",
    "#   key1 key2   P   Q\n",
    "# 0   K0   K0  P0  Q0\n",
    "# 1   K0   K1  P1  Q1\n",
    "# 2   K1   K0  P2  Q2\n",
    "# 3   K2   K1  P3  Q3\n",
    "# data2:\n",
    "#   key1 key2   R   S\n",
    "# 0   K0   K0  R0  S0\n",
    "# 1   K1   K0  R1  S1\n",
    "# 2   K1   K0  R2  S2\n",
    "# 3   K2   K0  R3  S3\n"
   ]
  },
  {
   "cell_type": "code",
   "execution_count": null,
   "metadata": {},
   "outputs": [],
   "source": [
    "# 15. Write a Pandas program to Combine two DataFrame objects by filling null values in one DataFrame with non-null values from other DataFrame.\n",
    "# Test Data:\n",
    "# Original DataFrames:\n",
    "#      A  B\n",
    "# 0  NaN  3\n",
    "# 1  0.0  4\n",
    "# 2  NaN  5\n",
    "#   A    B\n",
    "# 0  1  3.0\n",
    "# 1  1  NaN\n",
    "# 2  3  3.0"
   ]
  }
 ],
 "metadata": {
  "kernelspec": {
   "display_name": "Python 3",
   "language": "python",
   "name": "python3"
  },
  "language_info": {
   "codemirror_mode": {
    "name": "ipython",
    "version": 3
   },
   "file_extension": ".py",
   "mimetype": "text/x-python",
   "name": "python",
   "nbconvert_exporter": "python",
   "pygments_lexer": "ipython3",
   "version": "3.12.2"
  }
 },
 "nbformat": 4,
 "nbformat_minor": 2
}
