{
 "cells": [
  {
   "cell_type": "code",
   "execution_count": 19,
   "id": "43141586",
   "metadata": {},
   "outputs": [
    {
     "name": "stdout",
     "output_type": "stream",
     "text": [
      "NumPy version: 1.26.4\n",
      "NumPy array: [1 2 3]\n",
      "\n",
      "Pandas version: 2.2.1\n",
      "Pandas DataFrame:\n",
      "   A  B\n",
      "0  1  4\n",
      "1  2  5\n",
      "2  3  6\n",
      "\n",
      "Matplotlib version: 3.8.3\n",
      "\n",
      "Scikit-learn version: 1.4.1.post1\n"
     ]
    }
   ],
   "source": [
    "#just testing that libraries were installed properly \n",
    "import numpy as np\n",
    "import pandas as pd\n",
    "import matplotlib\n",
    "import sklearn\n",
    "\n",
    "# Test numpy\n",
    "print(\"NumPy version:\", np.__version__)\n",
    "arr = np.array([1, 2, 3])\n",
    "print(\"NumPy array:\", arr)\n",
    "\n",
    "# Test pandas\n",
    "print(\"\\nPandas version:\", pd.__version__)\n",
    "df = pd.DataFrame({'A': [1, 2, 3], 'B': [4, 5, 6]})\n",
    "print(\"Pandas DataFrame:\")\n",
    "print(df)\n",
    "\n",
    "# Test matplotlib\n",
    "print(\"\\nMatplotlib version:\", matplotlib.__version__)\n",
    "\n",
    "# Test scikit-learn\n",
    "print(\"\\nScikit-learn version:\", sklearn.__version__)\n"
   ]
  },
  {
   "cell_type": "code",
   "execution_count": 13,
   "id": "initial_id",
   "metadata": {
    "ExecuteTime": {
     "end_time": "2024-02-28T00:35:28.671185600Z",
     "start_time": "2024-02-28T00:35:28.646449300Z"
    },
    "collapsed": true
   },
   "outputs": [
    {
     "name": "stdout",
     "output_type": "stream",
     "text": [
      "hello world \n",
      "[[11 12 13 14]\n",
      " [15 16 17 18]]\n"
     ]
    }
   ],
   "source": [
    "# #1. Create a rank 2 (2D) array that resembles the matrix below.\n",
    "# [[11 12 13 14]\n",
    "#  [15 16 17 18]]\n",
    "import numpy as np # import np \n",
    "print (\"hello world \") # test working python\n",
    "twoDarray = np.array([[11,12,13,14],[15,16,17,18]])\n",
    "print(twoDarray)"
   ]
  },
  {
   "cell_type": "code",
   "execution_count": 18,
   "id": "f2994e3040ced339",
   "metadata": {
    "ExecuteTime": {
     "end_time": "2024-02-28T00:25:02.855340600Z",
     "start_time": "2024-02-28T00:25:02.303378900Z"
    },
    "collapsed": false
   },
   "outputs": [
    {
     "name": "stdout",
     "output_type": "stream",
     "text": [
      "[[0. 0. 0.]\n",
      " [0. 0. 0.]\n",
      " [0. 0. 0.]\n",
      " [0. 0. 0.]]\n"
     ]
    }
   ],
   "source": [
    "# Use the appropriate functions to solve the following questions\n",
    "# 1. Create an array with 4 rows and 3 columns of zeros. Your results should look as below:\n",
    "# [[0. 0. 0.]\n",
    "#  [0. 0. 0.]\n",
    "#  [0. 0. 0.]\n",
    "#  [0. 0. 0.]]\n",
    "\n",
    "import numpy as numPy #import numpy\n",
    "arr = numPy.zeros((4,3)) # first number rows, second collumns\n",
    "print (arr)\n"
   ]
  },
  {
   "cell_type": "code",
   "execution_count": null,
   "id": "dee93d3c",
   "metadata": {},
   "outputs": [],
   "source": [
    "# 2.Create an array of ones that has 3 rows and 4 columns. Your results should look as below:\n",
    "# [[1. 1. 1. 1.]\n",
    "# [1. 1. 1. 1.]\n",
    "# [1. 1. 1. 1.]]\n",
    "import numpy as NumPy\n",
    "arr=NumPy"
   ]
  }
 ],
 "metadata": {
  "kernelspec": {
   "display_name": "Python 3",
   "language": "python",
   "name": "python3"
  },
  "language_info": {
   "codemirror_mode": {
    "name": "ipython",
    "version": 3
   },
   "file_extension": ".py",
   "mimetype": "text/x-python",
   "name": "python",
   "nbconvert_exporter": "python",
   "pygments_lexer": "ipython3",
   "version": "3.9.1"
  }
 },
 "nbformat": 4,
 "nbformat_minor": 5
}
