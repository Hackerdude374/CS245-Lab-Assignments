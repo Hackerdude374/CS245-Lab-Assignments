{
 "cells": [
  {
   "cell_type": "code",
   "execution_count": 19,
   "id": "43141586",
   "metadata": {},
   "outputs": [
    {
     "name": "stdout",
     "output_type": "stream",
     "text": [
      "NumPy version: 1.26.4\n",
      "NumPy array: [1 2 3]\n",
      "\n",
      "Pandas version: 2.2.1\n",
      "Pandas DataFrame:\n",
      "   A  B\n",
      "0  1  4\n",
      "1  2  5\n",
      "2  3  6\n",
      "\n",
      "Matplotlib version: 3.8.3\n",
      "\n",
      "Scikit-learn version: 1.4.1.post1\n"
     ]
    }
   ],
   "source": [
    "#just testing that libraries were installed properly \n",
    "import numpy as np\n",
    "import pandas as pd\n",
    "import matplotlib\n",
    "import sklearn\n",
    "\n",
    "# Test numpy\n",
    "print(\"NumPy version:\", np.__version__)\n",
    "arr = np.array([1, 2, 3])\n",
    "print(\"NumPy array:\", arr)\n",
    "\n",
    "# Test pandas\n",
    "print(\"\\nPandas version:\", pd.__version__)\n",
    "df = pd.DataFrame({'A': [1, 2, 3], 'B': [4, 5, 6]})\n",
    "print(\"Pandas DataFrame:\")\n",
    "print(df)\n",
    "\n",
    "# Test matplotlib\n",
    "print(\"\\nMatplotlib version:\", matplotlib.__version__)\n",
    "\n",
    "# Test scikit-learn\n",
    "print(\"\\nScikit-learn version:\", sklearn.__version__)\n"
   ]
  },
  {
   "cell_type": "code",
   "execution_count": 13,
   "id": "initial_id",
   "metadata": {
    "ExecuteTime": {
     "end_time": "2024-02-28T00:35:28.671185600Z",
     "start_time": "2024-02-28T00:35:28.646449300Z"
    },
    "collapsed": true
   },
   "outputs": [
    {
     "name": "stdout",
     "output_type": "stream",
     "text": [
      "hello world \n",
      "[[11 12 13 14]\n",
      " [15 16 17 18]]\n"
     ]
    }
   ],
   "source": [
    "# #1. Create a rank 2 (2D) array that resembles the matrix below.\n",
    "# [[11 12 13 14]\n",
    "#  [15 16 17 18]]\n",
    "import numpy as np # import np \n",
    "print (\"hello world \") # test working python\n",
    "twoDarray = np.array([[11,12,13,14],[15,16,17,18]])\n",
    "print(twoDarray)"
   ]
  },
  {
   "cell_type": "code",
   "execution_count": 18,
   "id": "f2994e3040ced339",
   "metadata": {
    "ExecuteTime": {
     "end_time": "2024-02-28T00:25:02.855340600Z",
     "start_time": "2024-02-28T00:25:02.303378900Z"
    },
    "collapsed": false
   },
   "outputs": [
    {
     "name": "stdout",
     "output_type": "stream",
     "text": [
      "[[0. 0. 0.]\n",
      " [0. 0. 0.]\n",
      " [0. 0. 0.]\n",
      " [0. 0. 0.]]\n"
     ]
    }
   ],
   "source": [
    "# Use the appropriate functions to solve the following questions\n",
    "# 1. Create an array with 4 rows and 3 columns of zeros. Your results should look as below:\n",
    "# [[0. 0. 0.]\n",
    "#  [0. 0. 0.]\n",
    "#  [0. 0. 0.]\n",
    "#  [0. 0. 0.]]\n",
    "\n",
    "import numpy as numPy #import numpy\n",
    "arr = numPy.zeros((4,3)) # first number rows, second collumns\n",
    "print (arr)\n"
   ]
  },
  {
   "cell_type": "code",
   "execution_count": 21,
   "id": "dee93d3c",
   "metadata": {},
   "outputs": [
    {
     "name": "stdout",
     "output_type": "stream",
     "text": [
      "[[1. 1. 1. 1.]\n",
      " [1. 1. 1. 1.]\n",
      " [1. 1. 1. 1.]]\n"
     ]
    }
   ],
   "source": [
    "# 2.Create an array of ones that has 3 rows and 4 columns. Your results should look as below:\n",
    "# [[1. 1. 1. 1.]\n",
    "# [1. 1. 1. 1.]\n",
    "# [1. 1. 1. 1.]]\n",
    "import numpy as NumPy\n",
    "\n",
    "arr = NumPy.ones((3,4)) #same as zeros just put ones\n",
    "print(arr)"
   ]
  },
  {
   "cell_type": "code",
   "execution_count": 28,
   "id": "c80746b5",
   "metadata": {},
   "outputs": [
    {
     "name": "stdout",
     "output_type": "stream",
     "text": [
      "[ 4  5  6  7  8  9 10 11 12 13]\n"
     ]
    }
   ],
   "source": [
    "# # 3. Create an array containing integers 4 to 13 inclusive. Your results should look as below:\n",
    "# # [4 5 6 7 8 9 10 11 12 13]\n",
    "import numpy as NumPy\n",
    "# #since the numbers follow a pattern of adding 1 \n",
    "# #you can just use the arrange comamnd from numPy\n",
    "\n",
    "arr1 = NumPy.arange(4,14) #starting index, n+1\n",
    "print(arr1)\n",
    "\n"
   ]
  },
  {
   "cell_type": "code",
   "execution_count": null,
   "id": "96d7b7df",
   "metadata": {},
   "outputs": [],
   "source": [
    "# 4. Create an array containing\n",
    "# [0., 1.5, 3., 4.5]"
   ]
  },
  {
   "cell_type": "code",
   "execution_count": null,
   "id": "6ac255cd",
   "metadata": {},
   "outputs": [],
   "source": [
    "# 5. Create a 2 by 2 array containing '4' in each position. Your results should look like this:\n",
    "# [[4 4]\n",
    "#  [4 4]]"
   ]
  },
  {
   "cell_type": "code",
   "execution_count": null,
   "id": "716dba51",
   "metadata": {},
   "outputs": [],
   "source": [
    "\n",
    "# 6\n",
    "# . Create 2 matrices:\n",
    "\n",
    "# i. Identity matrix of size 4\n",
    "# [[1. 0. 0. 0.]\n",
    "#  [0. 1. 0. 0.]\n",
    "#  [0. 0. 1. 0.]\n",
    "#  [0. 0. 0. 1.]]\n",
    "# ii. Diagonal matrix with [10,12] as the diagonals\n",
    "# [[10  0]\n",
    "#  [ 0 12]]"
   ]
  },
  {
   "cell_type": "code",
   "execution_count": null,
   "id": "9574ee95",
   "metadata": {},
   "outputs": [],
   "source": [
    "# 7. Create a 3 by 3 array with random floats in [0, 10]. Your answer may be different because it is random but it should look something like this:\n",
    "# [[6.3685612  0.61720883 8.93157783]\n",
    "#  [3.69927617 5.79879583 7.62145626]\n",
    "#  [7.21895112 4.02011535 4.48844787]]"
   ]
  },
  {
   "cell_type": "code",
   "execution_count": null,
   "id": "e4562f82",
   "metadata": {},
   "outputs": [],
   "source": [
    "# 8. Create a 3 by 3 array with random integers in [10, 20]. Your answer may be different because it is random but it should look something like this:\n",
    "# [[19 11 13]\n",
    "#  [10 11 13]\n",
    "#  [11 14 10]]\n"
   ]
  },
  {
   "cell_type": "code",
   "execution_count": null,
   "id": "da52e4b0",
   "metadata": {},
   "outputs": [],
   "source": [
    "# SLICING ARRAYS\n",
    "\n",
    "# 1. Use this array for the following practice:\n",
    "# myArray = np.array([[11,12,13], [14,15,16], [17,18,19]])\n",
    "\n",
    "# a. Get a subarray of the first row and first 2 columns. Your results should look like this:\n",
    "# [11 12]\n",
    "\n",
    "# b. Change all elements in 1st and second row to 0. Your results should look like this:\n",
    "# [[ 0  0  0]\n",
    "#  [ 0  0  0]\n",
    "#  [17 18 19]]"
   ]
  }
 ],
 "metadata": {
  "kernelspec": {
   "display_name": "Python 3",
   "language": "python",
   "name": "python3"
  },
  "language_info": {
   "codemirror_mode": {
    "name": "ipython",
    "version": 3
   },
   "file_extension": ".py",
   "mimetype": "text/x-python",
   "name": "python",
   "nbconvert_exporter": "python",
   "pygments_lexer": "ipython3",
   "version": "3.9.1"
  }
 },
 "nbformat": 4,
 "nbformat_minor": 5
}
